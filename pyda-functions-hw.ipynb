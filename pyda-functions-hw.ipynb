{
 "cells": [
  {
   "cell_type": "markdown",
   "metadata": {},
   "source": [
    "## Задание 1"
   ]
  },
  {
   "cell_type": "markdown",
   "metadata": {},
   "source": [
    "Дан список вида:"
   ]
  },
  {
   "cell_type": "code",
   "execution_count": null,
   "metadata": {},
   "outputs": [],
   "source": [
    "data = [\n",
    "    [13, 25, 23, 34],\n",
    "    [45, 32, 44, 47],\n",
    "    [12, 33, 23, 95],\n",
    "    [13, 53, 34, 35]\n",
    "]\n"
   ]
  },
  {
   "cell_type": "markdown",
   "metadata": {},
   "source": [
    "Напишите функцию, которая возвращает сумму элементов на диагонали. Т. е. 13+32+23+35.  \n",
    "Список может быть любой длины, но всегда является \"квадратным\" (количество элементов во вложенных списках равно их количеству)."
   ]
  },
  {
   "cell_type": "code",
   "execution_count": null,
   "metadata": {},
   "outputs": [],
   "source": [
    "def summ(x):\n",
    "    s = 0\n",
    "    for el in range(len(x)):\n",
    "        s += x[el][el]\n",
    "    return s \n",
    "           \n",
    "summ(data)   \n",
    "\n",
    "    "
   ]
  },
  {
   "cell_type": "code",
   "execution_count": null,
   "metadata": {},
   "outputs": [],
   "source": [
    "   \n",
    "    "
   ]
  },
  {
   "cell_type": "markdown",
   "metadata": {},
   "source": [
    "## Задание 2"
   ]
  },
  {
   "cell_type": "markdown",
   "metadata": {},
   "source": [
    "Напишите функцию, возвращающую сумму первых n чисел Фибоначчи (для этого вам может понадобится ознакомиться с рекурсией)."
   ]
  },
  {
   "cell_type": "markdown",
   "metadata": {},
   "source": [
    "Для задания взята последовательность вида \"1, 1, 2, 3.....\""
   ]
  },
  {
   "cell_type": "code",
   "execution_count": null,
   "metadata": {},
   "outputs": [],
   "source": [
    "def fib (n):\n",
    "    if n<= 1:\n",
    "        return (n)\n",
    "    else:\n",
    "        fib_1 = fib(n-1)+ fib(n-2)\n",
    "    return fib_1\n",
    "def sum_fib(n):\n",
    "    q = [fib(n) for n in range(1, n+1)]\n",
    "    return sum(q)\n",
    "sum_fib(7)\n",
    "\n",
    "   "
   ]
  },
  {
   "cell_type": "code",
   "execution_count": null,
   "metadata": {},
   "outputs": [],
   "source": []
  },
  {
   "cell_type": "code",
   "execution_count": null,
   "metadata": {},
   "outputs": [],
   "source": []
  },
  {
   "cell_type": "markdown",
   "metadata": {},
   "source": [
    "## Задание 3\n"
   ]
  },
  {
   "cell_type": "markdown",
   "metadata": {},
   "source": [
    "Напишите функцию, преобразующую произвольный список вида ['2018-01-01', 'yandex', 'cpc', 100] (он может быть любой длины) в словарь {'2018-01-01': {'yandex': {'cpc': 100}}}"
   ]
  },
  {
   "cell_type": "code",
   "execution_count": null,
   "metadata": {},
   "outputs": [],
   "source": [
    "#мой вариант\n",
    "a =['2018-01-01', 'yandex', 'cpc', 100]\n",
    "def act (a):\n",
    "    if a:\n",
    "        one,*other = a\n",
    "        return {one: act(other)}\n",
    "    else:\n",
    "        return {}\n",
    "act(a)   "
   ]
  },
  {
   "cell_type": "code",
   "execution_count": null,
   "metadata": {},
   "outputs": [],
   "source": [
    "#правильный вариант\n",
    "a =['2018-01-01', 'yandex', 'cpc', 100]\n",
    "\n",
    "k = a[-1]\n",
    "#print (k)\n",
    "for el in a[-2::-1]:\n",
    "    k = {el:k}\n",
    "   \n",
    "print(k)"
   ]
  },
  {
   "cell_type": "code",
   "execution_count": null,
   "metadata": {},
   "outputs": [],
   "source": []
  },
  {
   "cell_type": "markdown",
   "metadata": {},
   "source": [
    "## Задание 4"
   ]
  },
  {
   "cell_type": "markdown",
   "metadata": {},
   "source": [
    "Вы работаете секретарем и вам постоянно приходят различные документы. Вы должны быть очень внимательны, чтобы не потерять ни один документ. Каталог документов хранится в следующем виде:"
   ]
  },
  {
   "cell_type": "code",
   "execution_count": 122,
   "metadata": {},
   "outputs": [],
   "source": [
    "documents = [\n",
    "    {'type': 'passport', 'number': '2207 876234', 'name': 'Василий Гупкин'},\n",
    "    {'type': 'invoice', 'number': '11-2', 'name': 'Геннадий Покемонов'},\n",
    "    {'type': 'insurance', 'number': '10006', 'name': 'Аристарх Павлов'}\n",
    "]"
   ]
  },
  {
   "cell_type": "markdown",
   "metadata": {},
   "source": [
    "Перечень полок, на которых находятся документы хранится в следующем виде:"
   ]
  },
  {
   "cell_type": "code",
   "execution_count": 123,
   "metadata": {},
   "outputs": [],
   "source": [
    "directories = {\n",
    "    '1': ['2207 876234', '11-2', '5455 028765'],\n",
    "    '2': ['10006', '5400 028765', '5455 002299'],\n",
    "    '3': []\n",
    "}\n",
    "\n"
   ]
  },
  {
   "cell_type": "code",
   "execution_count": 124,
   "metadata": {},
   "outputs": [],
   "source": [
    "def find_person ():\n",
    "    number = input ('Введите номер документа')\n",
    "    for k in documents:\n",
    "        if k['number'] == number:\n",
    "            return k['name']\n",
    "    return 'Документа не существует'    \n",
    "#find_person ()"
   ]
  },
  {
   "cell_type": "code",
   "execution_count": 125,
   "metadata": {},
   "outputs": [],
   "source": [
    "def find_shelf():\n",
    "    num = input('Введите номер документа')\n",
    "    for k, v in directories.items():\n",
    "        if num in v:\n",
    "                          \n",
    "            return k\n",
    "    return ('Документа не существует')    \n",
    "#find_shelf()       "
   ]
  },
  {
   "cell_type": "code",
   "execution_count": 126,
   "metadata": {},
   "outputs": [],
   "source": [
    "def list_person():\n",
    "    \n",
    "    for el in documents:\n",
    "        l=[]\n",
    "        for value in el.values():\n",
    "            l = (' '.join(el.values()) )               \n",
    "        print(l)      \n",
    "#list_person()  "
   ]
  },
  {
   "cell_type": "code",
   "execution_count": 127,
   "metadata": {},
   "outputs": [],
   "source": [
    "def add_shelf ():\n",
    "    numb = input('Введите номер полки')\n",
    "    if numb not in directories.keys():\n",
    "        directories[numb] = []\n",
    "        return\n",
    "    else:\n",
    "        print ('Полка уже существует')\n",
    "#add_shelf ()        "
   ]
  },
  {
   "cell_type": "code",
   "execution_count": 128,
   "metadata": {},
   "outputs": [],
   "source": [
    "def delite ():\n",
    "    number = input('Введите номер документа:')\n",
    "\n",
    "    for elements in documents:\n",
    "        if elements ['number'] == number:\n",
    "            documents.remove(elements)\n",
    "\n",
    "    for key, values in directories.items():\n",
    "        if number in values:\n",
    "            directories[key].remove(number)\n",
    "            return (documents, directories)   \n",
    "    return( 'Документа не существует')    \n",
    "#delite ()           "
   ]
  },
  {
   "cell_type": "code",
   "execution_count": 129,
   "metadata": {},
   "outputs": [],
   "source": [
    "def move_d():\n",
    "    doc = input('Введите номер документа:')\n",
    "    for key,value in directories.items():\n",
    "        if doc in value:\n",
    "            shelf= input ('Введите номер полки:')\n",
    "            if shelf in directories.keys():\n",
    "                directories[key].remove(doc)\n",
    "                directories[shelf].append(doc)\n",
    "                return directories\n",
    "            return ('Полки не существует')\n",
    "        \n",
    "    return 'Документа не существует'\n",
    "           \n",
    "#move_d()         "
   ]
  },
  {
   "cell_type": "code",
   "execution_count": 130,
   "metadata": {},
   "outputs": [],
   "source": [
    "def add():\n",
    "    new_doc ={}\n",
    "    new_number = input ('Введите номер документа:')\n",
    "    shelf_n = input ('введите номер полки:')\n",
    "    for keys, values in directories.items():\n",
    "        if shelf_n == keys:\n",
    "            directories[keys].append(new_number)  \n",
    "      \n",
    "            documents.append(new_doc)\n",
    "\n",
    "            new_type = input ('Введите тип документа:')\n",
    "            new_name = input ('Введите имя владельца:')\n",
    "            new_doc['type'] = new_type\n",
    "            new_doc['number'] = new_number\n",
    "            new_doc['name'] = new_name\n",
    "            return (documents, directories)\n",
    "    \n",
    "    return ('Полки не существует')  \n",
    "\n",
    "#add()       "
   ]
  },
  {
   "cell_type": "code",
   "execution_count": 132,
   "metadata": {},
   "outputs": [
    {
     "name": "stdout",
     "output_type": "stream",
     "text": [
      "Введите команду:p\n",
      "Введите номер документа11-2\n",
      "Геннадий Покемонов\n"
     ]
    }
   ],
   "source": [
    "def main():\n",
    "    comand = input('Введите команду:')\n",
    "    if comand =='p':\n",
    "            print(find_person()) \n",
    "\n",
    "    elif comand =='s':\n",
    "            print( find_shelf())\n",
    "        \n",
    "    elif comand =='l':\n",
    "            print (list_person()) \n",
    "        \n",
    "    elif comand =='as':\n",
    "             print  (add_shelf()) \n",
    "        \n",
    "    elif comand =='d':\n",
    "             print  (delite())    \n",
    "    \n",
    "    elif comand =='m':\n",
    "             print (move_d())\n",
    "        \n",
    "    elif comand =='a':\n",
    "             print (add())    \n",
    "\n",
    "main()    "
   ]
  },
  {
   "cell_type": "markdown",
   "metadata": {},
   "source": [
    "Необходимо реализовать пользовательские команды (внимание! это не название функций, которые должны быть выразительными, а команды, которые вводит пользователь, чтобы получить необходимый результат):\n",
    "  \n",
    "- p – people – команда, которая спросит номер документа и выведет имя человека, которому он принадлежит;  \n",
    "- s – shelf – команда, которая спросит номер документа и выведет номер полки, на которой он находится  \n",
    "Правильно обработайте ситуацию, когда пользователь будет вводить несуществующий документ.\n",
    "- l – list – команда, которая выведет список всех документов в формате   \n",
    "**passport \"2207 876234\" \"Василий Гупкин\"**  \n",
    "- as – add shelf – команда, которая спросит номер новой полки и добавит ее в перечень\n",
    "- d – delete – команда, которая спросит номер документа и удалит его из каталога и из перечня полок. Предусмотрите сценарий, когда пользователь вводит несуществующий документ;  \n",
    "- m – move – команда, которая спросит номер документа и целевую полку и переместит его с текущей полки на целевую. Корректно обработайте кейсы, когда пользователь пытается переместить несуществующий документ или переместить документ на несуществующую полку;  \n",
    "- a – add – команда, которая добавит новый документ в каталог и в перечень полок, спросив его номер, тип, имя владельца и номер полки, на котором он будет храниться."
   ]
  }
 ],
 "metadata": {
  "kernelspec": {
   "display_name": "Python 3",
   "language": "python",
   "name": "python3"
  },
  "language_info": {
   "codemirror_mode": {
    "name": "ipython",
    "version": 3
   },
   "file_extension": ".py",
   "mimetype": "text/x-python",
   "name": "python",
   "nbconvert_exporter": "python",
   "pygments_lexer": "ipython3",
   "version": "3.7.4"
  }
 },
 "nbformat": 4,
 "nbformat_minor": 2
}
